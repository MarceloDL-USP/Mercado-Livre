{
 "cells": [
  {
   "cell_type": "markdown",
   "metadata": {},
   "source": [
    "Esse problema é simples. Basta verificar o notebook __Similaridade.ipynb__\n",
    "\n",
    "Para o processamento final seriam necessárias mais de 4 horas no meu PC atual. "
   ]
  }
 ],
 "metadata": {
  "language_info": {
   "name": "python"
  },
  "orig_nbformat": 4
 },
 "nbformat": 4,
 "nbformat_minor": 2
}
