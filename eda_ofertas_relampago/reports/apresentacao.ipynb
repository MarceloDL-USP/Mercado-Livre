{
 "cells": [
  {
   "cell_type": "markdown",
   "metadata": {},
   "source": [
    "#### Análise dos dados\n",
    "\n",
    "\n",
    "\n",
    "#### Produtos mais vendidos\n",
    "\n",
    "Os dados mostrar que os produtos mais vendidos e os com maior montante arrecadado são.\n",
    "\n",
    "Reflexões:\n",
    "    Para os produtos com maior número de compras poderia-se pensar em formas de melhorar a experiência do usuário com a interface de compras. Exemplo \"Comprar One Touch\" (comprar com o mínimo de cliques possível).\n",
    "\n",
    "    Para os produtos com menores comprar é necessário maior pesquisa para se saber o motivo. Se sazonalidade ou se é um mercado que ainda começou a ser explorado. No segundo caso novas estratégias de pendetração de mercado podem ser pensadas.\n",
    "\n",
    "#### Correlação\n",
    "\n",
    "    Não foi encontrada uma correlação forte entre a quantidade de produtos vendidos. Isso pode sugerir a getão de vendas de produtos componentes ou acessórios para o produto principal podem ser melhor explorada.\n",
    "\n",
    "#### Sazonalide\n",
    "\n",
    "    A sazonalidade em geral não foi tão acentuada. Provavelmente o maior impacto foi o fato de se tratar de uma promoção relâmpago e dessa forma os produtos eram vendidos logo devido a natureza desssa promoção.\n",
    "    \n",
    "#### Destaques"
   ]
  },
  {
   "cell_type": "markdown",
   "metadata": {},
   "source": []
  }
 ],
 "metadata": {
  "language_info": {
   "name": "python"
  },
  "orig_nbformat": 4
 },
 "nbformat": 4,
 "nbformat_minor": 2
}
