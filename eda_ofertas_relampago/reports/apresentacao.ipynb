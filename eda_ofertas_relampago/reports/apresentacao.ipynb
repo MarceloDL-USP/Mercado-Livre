{
 "cells": [
  {
   "cell_type": "markdown",
   "metadata": {},
   "source": [
    "#### Análise dos dados\n",
    "\n",
    "Para essa discussão a análise foi realizada nos notbook enumerados nessa pasta.\n",
    "\n",
    "__1. Preparação dos dados__\n",
    "\n",
    "No notebook 1 foi realizada uma exploração e preparação dos dados para análise nos próximos notebooks.\n",
    "\n",
    "__2. Verificação de correlção__\n",
    "\n",
    "No notebook 2 foi verificado se existe __correlação__ entre as quantidade vendidadas das agregações de produtos __DOM_DOMAIN_AGG1__. \n",
    "\n",
    "Não foi encontrada uma correlação forte entre as quantidades agregadas __DOM_DOMAIN_AGG1__ de produtos vendidos. Isso pode sugerir que a gestão de vendas de produtos componentes ou acessórios do produto principal podem ser melhor explorada.\n",
    "\n",
    "__3. Apenas correlações óbvias__\n",
    "\n",
    "No notebook 3 foi observado correções mais obvias entre os dados:\n",
    "    - REMAINING_STOCK_AFTER_END e INVOLVED_STOCK de 0.91\n",
    "    - SOLD_QUANTITY e SOLD_AMOUNT de 0.96\n",
    "\n",
    "__4. Produtos mais vendidos__\n",
    "\n",
    "No nootbook 4 foi observado que os agregados de produtos - DOM_DOMAIN_AGG1 - mais vendidos e os com maior montante arrecadado foram 'HOME&DECOR', 'APPAREL ACCESORIES', 'APPAREL', 'COMPUTERS','SPORTS' nessa ordem.\n",
    "\n",
    "__5. Pequenas quantidades ou montantes__\n",
    "\n",
    "No nootebook 5 foi observado pelos violin plots que na grande maioria são realizadas vendas em pequenas quantidades ou montantes.\n",
    "\n",
    "__6. Sazonalide__\n",
    "\n",
    "No notebook 6 foi observado que a sazonalidade em geral não foi tão acentuada. Provavelmente o maior impacto foi o fato de se tratar de uma promoção relâmpago e dessa forma os produtos eram vendidos logo devido a natureza desssa promoção.\n",
    "\n",
    "__Reflexões__\n",
    "\n",
    "Para os produtos com maior número de compras poderia-se pensar em formas de melhorar a experiência do usuário com a interface de compras. Exemplo compras \"One Touch\" (comprar com o mínimo de cliques possível).\n",
    "\n",
    "Para os produtos com menores compras é necessário maior pesquisa para se saber o motivo. Se se trata de sazonalidade ou se é um mercado que ainda começou a ser explorado. No segundo caso novas estratégias de pendetração de mercado podem ser pensadas.\n",
    "\n",
    "\n",
    "\n",
    "    "
   ]
  },
  {
   "cell_type": "markdown",
   "metadata": {},
   "source": []
  }
 ],
 "metadata": {
  "language_info": {
   "name": "python"
  },
  "orig_nbformat": 4
 },
 "nbformat": 4,
 "nbformat_minor": 2
}
