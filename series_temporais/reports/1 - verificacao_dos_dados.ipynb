{
 "cells": [
  {
   "cell_type": "code",
   "execution_count": 1,
   "metadata": {},
   "outputs": [
    {
     "data": {
      "text/plain": [
       "datetime.datetime(2022, 4, 29, 16, 44, 54, 488395)"
      ]
     },
     "execution_count": 1,
     "metadata": {},
     "output_type": "execute_result"
    }
   ],
   "source": [
    "from datetime import datetime\n",
    "\n",
    "t1 = datetime.now()\n",
    "t1"
   ]
  },
  {
   "cell_type": "code",
   "execution_count": 2,
   "metadata": {},
   "outputs": [],
   "source": [
    "import pandas as pd \n",
    "# pd.set_option('display.max_columns', None)\n",
    "# pd.set_option('display.max_rows', None)\n",
    "\n",
    "# Importando as funções próprias de análise\n",
    "from summary import print_type_info"
   ]
  },
  {
   "cell_type": "markdown",
   "metadata": {},
   "source": [
    "### 1. Verificação dos dados"
   ]
  },
  {
   "cell_type": "code",
   "execution_count": 3,
   "metadata": {},
   "outputs": [],
   "source": [
    "df = pd.read_csv(\"..\\data\\external\\series.csv\")"
   ]
  },
  {
   "cell_type": "code",
   "execution_count": 4,
   "metadata": {},
   "outputs": [
    {
     "data": {
      "text/html": [
       "<div>\n",
       "<style scoped>\n",
       "    .dataframe tbody tr th:only-of-type {\n",
       "        vertical-align: middle;\n",
       "    }\n",
       "\n",
       "    .dataframe tbody tr th {\n",
       "        vertical-align: top;\n",
       "    }\n",
       "\n",
       "    .dataframe thead th {\n",
       "        text-align: right;\n",
       "    }\n",
       "</style>\n",
       "<table border=\"1\" class=\"dataframe\">\n",
       "  <thead>\n",
       "    <tr style=\"text-align: right;\">\n",
       "      <th></th>\n",
       "      <th>CATEGORY</th>\n",
       "      <th>DATE</th>\n",
       "      <th>UNITS_SOLD</th>\n",
       "    </tr>\n",
       "  </thead>\n",
       "  <tbody>\n",
       "    <tr>\n",
       "      <th>0</th>\n",
       "      <td>CATEG-1</td>\n",
       "      <td>2021-08-17</td>\n",
       "      <td>59</td>\n",
       "    </tr>\n",
       "    <tr>\n",
       "      <th>1</th>\n",
       "      <td>CATEG-1</td>\n",
       "      <td>2020-09-19</td>\n",
       "      <td>40</td>\n",
       "    </tr>\n",
       "    <tr>\n",
       "      <th>2</th>\n",
       "      <td>CATEG-2</td>\n",
       "      <td>2021-10-26</td>\n",
       "      <td>23</td>\n",
       "    </tr>\n",
       "    <tr>\n",
       "      <th>3</th>\n",
       "      <td>CATEG-1</td>\n",
       "      <td>2021-04-27</td>\n",
       "      <td>60</td>\n",
       "    </tr>\n",
       "    <tr>\n",
       "      <th>4</th>\n",
       "      <td>CATEG-2</td>\n",
       "      <td>2021-05-05</td>\n",
       "      <td>61</td>\n",
       "    </tr>\n",
       "    <tr>\n",
       "      <th>...</th>\n",
       "      <td>...</td>\n",
       "      <td>...</td>\n",
       "      <td>...</td>\n",
       "    </tr>\n",
       "    <tr>\n",
       "      <th>2681</th>\n",
       "      <td>CATEG-1</td>\n",
       "      <td>2021-02-18</td>\n",
       "      <td>78</td>\n",
       "    </tr>\n",
       "    <tr>\n",
       "      <th>2682</th>\n",
       "      <td>CATEG-2</td>\n",
       "      <td>2020-12-05</td>\n",
       "      <td>8</td>\n",
       "    </tr>\n",
       "    <tr>\n",
       "      <th>2683</th>\n",
       "      <td>CATEG-2</td>\n",
       "      <td>2020-02-05</td>\n",
       "      <td>3</td>\n",
       "    </tr>\n",
       "    <tr>\n",
       "      <th>2684</th>\n",
       "      <td>CATEG-2</td>\n",
       "      <td>2020-06-05</td>\n",
       "      <td>106</td>\n",
       "    </tr>\n",
       "    <tr>\n",
       "      <th>2685</th>\n",
       "      <td>CATEG-1</td>\n",
       "      <td>2021-09-03</td>\n",
       "      <td>38</td>\n",
       "    </tr>\n",
       "  </tbody>\n",
       "</table>\n",
       "<p>2686 rows × 3 columns</p>\n",
       "</div>"
      ],
      "text/plain": [
       "     CATEGORY        DATE  UNITS_SOLD\n",
       "0     CATEG-1  2021-08-17          59\n",
       "1     CATEG-1  2020-09-19          40\n",
       "2     CATEG-2  2021-10-26          23\n",
       "3     CATEG-1  2021-04-27          60\n",
       "4     CATEG-2  2021-05-05          61\n",
       "...       ...         ...         ...\n",
       "2681  CATEG-1  2021-02-18          78\n",
       "2682  CATEG-2  2020-12-05           8\n",
       "2683  CATEG-2  2020-02-05           3\n",
       "2684  CATEG-2  2020-06-05         106\n",
       "2685  CATEG-1  2021-09-03          38\n",
       "\n",
       "[2686 rows x 3 columns]"
      ]
     },
     "execution_count": 4,
     "metadata": {},
     "output_type": "execute_result"
    }
   ],
   "source": [
    "df"
   ]
  },
  {
   "cell_type": "code",
   "execution_count": 5,
   "metadata": {},
   "outputs": [
    {
     "data": {
      "image/png": "[encoded data removed]",
      "text/plain": [
       "<Figure size 1800x720 with 2 Axes>"
      ]
     },
     "metadata": {
      "needs_background": "light"
     },
     "output_type": "display_data"
    }
   ],
   "source": [
    "import missingno as msno\n",
    "\n",
    "msno.matrix(df, labels=True, sort=\"descending\");"
   ]
  },
  {
   "cell_type": "code",
   "execution_count": 6,
   "metadata": {},
   "outputs": [
    {
     "data": {
      "text/html": [
       "<div>\n",
       "<style scoped>\n",
       "    .dataframe tbody tr th:only-of-type {\n",
       "        vertical-align: middle;\n",
       "    }\n",
       "\n",
       "    .dataframe tbody tr th {\n",
       "        vertical-align: top;\n",
       "    }\n",
       "\n",
       "    .dataframe thead th {\n",
       "        text-align: right;\n",
       "    }\n",
       "</style>\n",
       "<table border=\"1\" class=\"dataframe\">\n",
       "  <thead>\n",
       "    <tr style=\"text-align: right;\">\n",
       "      <th></th>\n",
       "      <th>UNITS_SOLD</th>\n",
       "    </tr>\n",
       "  </thead>\n",
       "  <tbody>\n",
       "    <tr>\n",
       "      <th>count</th>\n",
       "      <td>2686.000000</td>\n",
       "    </tr>\n",
       "    <tr>\n",
       "      <th>mean</th>\n",
       "      <td>531.340283</td>\n",
       "    </tr>\n",
       "    <tr>\n",
       "      <th>std</th>\n",
       "      <td>840.944458</td>\n",
       "    </tr>\n",
       "    <tr>\n",
       "      <th>min</th>\n",
       "      <td>0.000000</td>\n",
       "    </tr>\n",
       "    <tr>\n",
       "      <th>25%</th>\n",
       "      <td>25.000000</td>\n",
       "    </tr>\n",
       "    <tr>\n",
       "      <th>50%</th>\n",
       "      <td>62.000000</td>\n",
       "    </tr>\n",
       "    <tr>\n",
       "      <th>75%</th>\n",
       "      <td>695.000000</td>\n",
       "    </tr>\n",
       "    <tr>\n",
       "      <th>max</th>\n",
       "      <td>7551.000000</td>\n",
       "    </tr>\n",
       "  </tbody>\n",
       "</table>\n",
       "</div>"
      ],
      "text/plain": [
       "        UNITS_SOLD\n",
       "count  2686.000000\n",
       "mean    531.340283\n",
       "std     840.944458\n",
       "min       0.000000\n",
       "25%      25.000000\n",
       "50%      62.000000\n",
       "75%     695.000000\n",
       "max    7551.000000"
      ]
     },
     "execution_count": 6,
     "metadata": {},
     "output_type": "execute_result"
    }
   ],
   "source": [
    "df.describe()"
   ]
  },
  {
   "cell_type": "code",
   "execution_count": 7,
   "metadata": {},
   "outputs": [
    {
     "data": {
      "text/html": [
       "<div>\n",
       "<style scoped>\n",
       "    .dataframe tbody tr th:only-of-type {\n",
       "        vertical-align: middle;\n",
       "    }\n",
       "\n",
       "    .dataframe tbody tr th {\n",
       "        vertical-align: top;\n",
       "    }\n",
       "\n",
       "    .dataframe thead th {\n",
       "        text-align: right;\n",
       "    }\n",
       "</style>\n",
       "<table border=\"1\" class=\"dataframe\">\n",
       "  <thead>\n",
       "    <tr style=\"text-align: right;\">\n",
       "      <th></th>\n",
       "      <th>Coluna</th>\n",
       "      <th>Type</th>\n",
       "      <th>Type_Count</th>\n",
       "      <th>Null_Count</th>\n",
       "      <th>None_Count</th>\n",
       "      <th>Unique_Valor</th>\n",
       "    </tr>\n",
       "  </thead>\n",
       "  <tbody>\n",
       "    <tr>\n",
       "      <th>0</th>\n",
       "      <td>CATEGORY</td>\n",
       "      <td>object</td>\n",
       "      <td>3</td>\n",
       "      <td>0</td>\n",
       "      <td>0</td>\n",
       "      <td>[CATEG-1, CATEG-2, CATEG-3]</td>\n",
       "    </tr>\n",
       "    <tr>\n",
       "      <th>1</th>\n",
       "      <td>DATE</td>\n",
       "      <td>object</td>\n",
       "      <td>921</td>\n",
       "      <td>0</td>\n",
       "      <td>0</td>\n",
       "      <td>[2021-08-17, 2020-09-19, 2021-10-26, 2021-04-27, 2021-05-05, 2018-10-18, 202...</td>\n",
       "    </tr>\n",
       "    <tr>\n",
       "      <th>2</th>\n",
       "      <td>UNITS_SOLD</td>\n",
       "      <td>int64</td>\n",
       "      <td>915</td>\n",
       "      <td>0</td>\n",
       "      <td>0</td>\n",
       "      <td>[59, 40, 23, 60, 61, 1, 1462, 28, 26, 1373, 3, 32, 3666, 1929, 2455, 1169, 6...</td>\n",
       "    </tr>\n",
       "  </tbody>\n",
       "</table>\n",
       "</div>"
      ],
      "text/plain": [
       "       Coluna    Type  Type_Count  Null_Count  None_Count  \\\n",
       "0    CATEGORY  object           3           0           0   \n",
       "1        DATE  object         921           0           0   \n",
       "2  UNITS_SOLD   int64         915           0           0   \n",
       "\n",
       "                                                                      Unique_Valor  \n",
       "0                                                      [CATEG-1, CATEG-2, CATEG-3]  \n",
       "1  [2021-08-17, 2020-09-19, 2021-10-26, 2021-04-27, 2021-05-05, 2018-10-18, 202...  \n",
       "2  [59, 40, 23, 60, 61, 1, 1462, 28, 26, 1373, 3, 32, 3666, 1929, 2455, 1169, 6...  "
      ]
     },
     "execution_count": 7,
     "metadata": {},
     "output_type": "execute_result"
    }
   ],
   "source": [
    "df_info = print_type_info(df)\n",
    "df_info"
   ]
  },
  {
   "cell_type": "code",
   "execution_count": 8,
   "metadata": {},
   "outputs": [
    {
     "name": "stdout",
     "output_type": "stream",
     "text": [
      "Número de amostras é: 2686\n",
      "Estão dividas nas categorias ['CATEG-1', 'CATEG-2', 'CATEG-3']\n",
      "Com 887 amostras da categoria 'CATEG-1'\n",
      "Com 879 amostras da categoria 'CATEG-2'\n",
      "Com 920 amostras da categoria 'CATEG-3'\n",
      "\n"
     ]
    }
   ],
   "source": [
    "lista_de_categorias = list(df[\"CATEGORY\"].unique())\n",
    "\n",
    "print(  f\"Número de amostras é: {len(df)}\\n\" + \n",
    "        f\"Estão dividas nas categorias {lista_de_categorias}\\n\"\n",
    "        f\"\"\"Com {len(df.query(f\"CATEGORY == 'CATEG-1'\")[\"CATEGORY\"])} amostras da categoria 'CATEG-1'\\n\"\"\"\n",
    "        f\"\"\"Com {len(df.query(f\"CATEGORY == 'CATEG-2'\")[\"CATEGORY\"])} amostras da categoria 'CATEG-2'\\n\"\"\"\n",
    "        f\"\"\"Com {len(df.query(f\"CATEGORY == 'CATEG-3'\")[\"CATEGORY\"])} amostras da categoria 'CATEG-3'\\n\"\"\")\n"
   ]
  },
  {
   "cell_type": "code",
   "execution_count": 9,
   "metadata": {},
   "outputs": [
    {
     "name": "stdout",
     "output_type": "stream",
     "text": [
      "O tempo total para rodar o sript foi de 0:00:02.025421\n"
     ]
    }
   ],
   "source": [
    "from datetime import datetime\n",
    "t2 = datetime.now()\n",
    "dt = t2 - t1\n",
    "print(f\"O tempo total para rodar o sript foi de {dt}\")"
   ]
  }
 ],
 "metadata": {
  "interpreter": {
   "hash": "2f6d159be5a8f768461e7be2b7ad42978ae67a295ee29c7289c8e15f7f40e27b"
  },
  "kernelspec": {
   "display_name": "Python 3.9.6 ('env': venv)",
   "language": "python",
   "name": "python3"
  },
  "language_info": {
   "codemirror_mode": {
    "name": "ipython",
    "version": 3
   },
   "file_extension": ".py",
   "mimetype": "text/x-python",
   "name": "python",
   "nbconvert_exporter": "python",
   "pygments_lexer": "ipython3",
   "version": "3.9.6"
  },
  "orig_nbformat": 4
 },
 "nbformat": 4,
 "nbformat_minor": 2
}
