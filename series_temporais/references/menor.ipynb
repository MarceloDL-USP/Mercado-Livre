{
 "cells": [
  {
   "cell_type": "code",
   "execution_count": 8,
   "metadata": {},
   "outputs": [
    {
     "name": "stdout",
     "output_type": "stream",
     "text": [
      "var_atual:  -999.999\n"
     ]
    }
   ],
   "source": [
    "lnum = [-4, -3, -7, 0, 9, 33, 5, -9.99, 67, -1, -26, 22000, -999.999]\n",
    "var_befor = None\n",
    "var_atual = None\n",
    "for i in lnum:\n",
    "    try:\n",
    "        atual = i\n",
    "        if var_befor == None:\n",
    "            var_befor = atual\n",
    "        if var_atual == None:\n",
    "            var_atual = atual\n",
    "\n",
    "        if atual < var_befor:\n",
    "            var_atual = atual\n",
    "    \n",
    "    except:\n",
    "        continue\n",
    "\n",
    "print(\"var_atual: \", var_atual)\n"
   ]
  },
  {
   "cell_type": "code",
   "execution_count": null,
   "metadata": {},
   "outputs": [],
   "source": []
  }
 ],
 "metadata": {
  "interpreter": {
   "hash": "2f6d159be5a8f768461e7be2b7ad42978ae67a295ee29c7289c8e15f7f40e27b"
  },
  "kernelspec": {
   "display_name": "Python 3.9.6 ('env': venv)",
   "language": "python",
   "name": "python3"
  },
  "language_info": {
   "codemirror_mode": {
    "name": "ipython",
    "version": 3
   },
   "file_extension": ".py",
   "mimetype": "text/x-python",
   "name": "python",
   "nbconvert_exporter": "python",
   "pygments_lexer": "ipython3",
   "version": "3.9.6"
  },
  "orig_nbformat": 4
 },
 "nbformat": 4,
 "nbformat_minor": 2
}
